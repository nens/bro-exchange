{
 "cells": [
  {
   "cell_type": "markdown",
   "metadata": {},
   "source": [
    "# GMW Example"
   ]
  },
  {
   "cell_type": "markdown",
   "metadata": {},
   "source": [
    "This notebook demonstrates how to generate different types of groundwatermonitoringwell (GMW) related sourcedocuments for data exchange with the bronhouderportaal (BRO). Also, it is shown how to validate these documents and how to upload them to the bronhouderportaal api. "
   ]
  },
  {
   "cell_type": "code",
   "execution_count": 1,
   "metadata": {},
   "outputs": [],
   "source": [
    "import bro_exchange as brx\n",
    "from getpass import getpass"
   ]
  },
  {
   "cell_type": "markdown",
   "metadata": {},
   "source": [
    "Define the token used for authentification with the Bronhouderportaal API below. Note: a token generated in the demo environment should be used."
   ]
  },
  {
   "cell_type": "code",
   "execution_count": 2,
   "metadata": {},
   "outputs": [],
   "source": [
    "user = input('user:')\n",
    "key = getpass('pass:')\n",
    "\n",
    "acces_token_bro_portal = {\n",
    "    'user':user,\n",
    "    'pass':key\n",
    "    }"
   ]
  },
  {
   "cell_type": "markdown",
   "metadata": {},
   "source": [
    "## 1. Registrate a new GMW"
   ]
  },
  {
   "cell_type": "markdown",
   "metadata": {},
   "source": [
    "### 1.1. Generate registration request xml document"
   ]
  },
  {
   "cell_type": "markdown",
   "metadata": {},
   "source": [
    "Get GMW data:"
   ]
  },
  {
   "cell_type": "code",
   "execution_count": 3,
   "metadata": {},
   "outputs": [],
   "source": [
    "#%% Inputdata for monitoringtube elements\n",
    "\n",
    "electrodes = [{'electrodeNumber':1,\n",
    "               'electrodePackingMaterial':'zand',               \n",
    "               'electrodeStatus':'gebruiksklaar',               \n",
    "               'electrodePosition':-2.63,                              \n",
    "               },\n",
    "              {'electrodeNumber':2,\n",
    "               'electrodePackingMaterial':'zand',               \n",
    "               'electrodeStatus':'gebruiksklaar',               \n",
    "               'electrodePosition':-3.98,                              \n",
    "               }]\n",
    "\n",
    "\n",
    "materialUsed_tube = {'tubePackingMaterial':'bentoniet',\n",
    "                'tubeMaterial':'peHighDensity',\n",
    "                'glue':'geen'} \n",
    "\n",
    "screen =  {'screenLength':1,\n",
    "                'sockMaterial':'geen'} \n",
    "\n",
    "plainTubePart ={'plainTubePartLength':6.64}   \n",
    "\n",
    "sedimentSump = {'sedimentSumpLength':0.5} \n",
    "\n",
    "geoOhmCables = [{'cableNumber':1,\n",
    "               'electrodes':electrodes}]\n",
    "\n",
    "monitoringTubes = [{'tubeNumber':1,\n",
    "                    'tubeType':'standaardbuis',\n",
    "                    'artesianWellCapPresent':'nee',\n",
    "                    'sedimentSumpPresent':'ja',\n",
    "                    'numberOfGeoOhmCables':1,\n",
    "                    'tubeTopDiameter':32,\n",
    "                    'variableDiameter':'nee',\n",
    "                    'tubeStatus':'gebruiksklaar', \n",
    "                    'tubeTopPosition':3.42,\n",
    "                    'tubeTopPositioningMethod':'RTKGPS10tot20cm',\n",
    "                    'materialUsed':materialUsed_tube,\n",
    "                    'screen':screen, \n",
    "                    'plainTubePart':plainTubePart},\n",
    "                   {'tubeNumber':2,\n",
    "                    'tubeType':'standaardbuis',\n",
    "                    'artesianWellCapPresent':'nee',\n",
    "                    'sedimentSumpPresent':'ja',\n",
    "                    'numberOfGeoOhmCables':1,\n",
    "                    'tubeTopDiameter':32,\n",
    "                    'variableDiameter':'nee',\n",
    "                    'tubeStatus':'gebruiksklaar', \n",
    "                    'tubeTopPosition':3.42,\n",
    "                    'tubeTopPositioningMethod':'RTKGPS10tot20cm',\n",
    "                    'materialUsed':materialUsed_tube,\n",
    "                    'screen':screen, \n",
    "                    'plainTubePart':plainTubePart,\n",
    "                    'sedimentSump':sedimentSump, \n",
    "                    'geoOhmCables':geoOhmCables}]\n",
    "\n",
    "#%% Inputdata for GMW_Construction sourcedocument\n",
    "\n",
    "deliveredLocation = {'X':134750.0,'Y':477800.0,'horizontalPositioningMethod':'DGPS50tot200cm'}\n",
    "\n",
    "deliveredVerticalPosition = {'localVerticalReferencePoint':'NAP',\n",
    "                                'offset':0,\n",
    "                                'verticalDatum':'NAP',\n",
    "                                'groundLevelPosition':3.18,\n",
    "                                'groundLevelPositioningMethod':'RTKGPS10tot20cm'\n",
    "                                }\n",
    "\n",
    "srcdocdata =  {'objectIdAccountableParty':'B07F0076',\n",
    "                'deliveryContext':'publiekeTaak',        \n",
    "                'constructionStandard':'RWSgwmon',        \n",
    "                'initialFunction':'stand',        \n",
    "                'numberOfMonitoringTubes':2,        \n",
    "                'groundLevelStable':'ja',        \n",
    "                'wellStability':'instabiel',        \n",
    "                'nitgCode':'B07F0076',        \n",
    "                'owner':'27376655',        \n",
    "                'maintenanceResponsibleParty':'27376655',        \n",
    "                'wellHeadProtector':'geen',        \n",
    "                'wellConstructionDate':'2015-02-08',        \n",
    "                'deliveredLocation':deliveredLocation,        \n",
    "                'deliveredVerticalPosition':deliveredVerticalPosition,             \n",
    "                'monitoringTubes':monitoringTubes,              \n",
    "                }    "
   ]
  },
  {
   "cell_type": "markdown",
   "metadata": {},
   "source": [
    "Generate registration request (GMW_construction) xml file:"
   ]
  },
  {
   "cell_type": "code",
   "execution_count": 4,
   "metadata": {},
   "outputs": [],
   "source": [
    "# Generate sourcedocument:\n",
    "reg = brx.gmw_registration_request(srcdoc='GMW_Construction', requestReference = 'register - GMW_Construction - 018. IMBRO - groundwaterMonitoringWell.maintenanceResponsibleParty', deliveryAccountableParty = '52766179', qualityRegime = 'IMBRO', srcdocdata=srcdocdata)\n",
    "reg.generate()\n",
    "\n",
    "# Note: a file can be stored optionally, but it's not required\n",
    "reg.write_xml(filename = 'registration_request_gmw_construction_test.xml', output_dir = 'output\\gmw')"
   ]
  },
  {
   "cell_type": "markdown",
   "metadata": {},
   "source": [
    "### 1.2. Validate registration request xml document"
   ]
  },
  {
   "cell_type": "markdown",
   "metadata": {},
   "source": [
    "Validate the generated sourcedocument. In this case, the demo environment of the bronhouderportaal is used for validation."
   ]
  },
  {
   "cell_type": "code",
   "execution_count": 5,
   "metadata": {},
   "outputs": [],
   "source": [
    "payload = reg.request\n",
    "validation_info = brx.validate_sourcedoc(payload, acces_token_bro_portal, demo=True)"
   ]
  },
  {
   "cell_type": "markdown",
   "metadata": {},
   "source": [
    "Check if there are some errors:"
   ]
  },
  {
   "cell_type": "code",
   "execution_count": 6,
   "metadata": {},
   "outputs": [
    {
     "name": "stdout",
     "output_type": "stream",
     "text": [
      "NIET_VALIDE\n",
      "\n",
      "ERRORS:\n",
      "Zandvang (SedimentSump) ontbreekt: het moet aanwezig zijn als Monitoringbuis. voorzien van zandvang (MonitoringTube.sedimentSumpPresent) = ja.\n",
      "\n",
      "Grondwatermonitoringput.put stabiliteit (MonitoringWell.wellStability) mag niet aanwezig zijn:  Grondwatermonitoringput.maaiveld stabiel (MonitoringWell.groundLevelStable) = ja bepaalt dat het moet ontbreken.\n",
      "\n",
      "Geo-ohmkabel (GeoOhmCable) ontbreekt, {MonitoringWell.monitoringTube.numberOfGeoOhmCables} = 1 waarde bepaalt het aantal keer dat dit gegeven voorkomt.\n",
      "\n",
      "Er zijn 1 of meer fouten geconstateerd in het brondocument.\n",
      "\n"
     ]
    }
   ],
   "source": [
    "print(validation_info['status']+'\\n')\n",
    "try:\n",
    "    \n",
    "    print('ERRORS:')\n",
    "    for error in validation_info['errors']:\n",
    "        print(error+'\\n')\n",
    "except:\n",
    "    None"
   ]
  },
  {
   "cell_type": "markdown",
   "metadata": {},
   "source": [
    "There seem to be some errors in the generated sourcedocument. Perform the required adjustments and validate the sourcedocument again:"
   ]
  },
  {
   "cell_type": "code",
   "execution_count": 8,
   "metadata": {},
   "outputs": [
    {
     "name": "stdout",
     "output_type": "stream",
     "text": [
      "VALIDE\n",
      "\n",
      "ERRORS:\n"
     ]
    }
   ],
   "source": [
    "monitoringTubes[0]['numberOfGeoOhmCables']=0\n",
    "monitoringTubes[0]['sedimentSumpPresent']='nee'\n",
    "srcdocdata['groundLevelStable']='nee'\n",
    "srcdocdata['monitoringTubes']=monitoringTubes\n",
    "\n",
    "\n",
    "reg = brx.gmw_registration_request(srcdoc='GMW_Construction', requestReference = 'register - GMW_Construction - 018. IMBRO - groundwaterMonitoringWell.maintenanceResponsibleParty', deliveryAccountableParty = '52766179', qualityRegime = 'IMBRO', srcdocdata=srcdocdata)\n",
    "reg.generate()\n",
    "\n",
    "payload = reg.request\n",
    "validation_info = brx.validate_sourcedoc(payload, acces_token_bro_portal, demo=True)\n",
    "\n",
    "print(validation_info['status']+'\\n')\n",
    "try:\n",
    "    \n",
    "    print('ERRORS:')\n",
    "    for error in validation_info['errors']:\n",
    "        print(error+'\\n')\n",
    "except:\n",
    "    None"
   ]
  },
  {
   "cell_type": "markdown",
   "metadata": {},
   "source": [
    "The xml document seems to be valid"
   ]
  },
  {
   "cell_type": "code",
   "execution_count": null,
   "metadata": {},
   "outputs": [],
   "source": []
  }
 ],
 "metadata": {
  "kernelspec": {
   "display_name": "Python 3.9.5 64-bit",
   "language": "python",
   "name": "python3"
  },
  "language_info": {
   "codemirror_mode": {
    "name": "ipython",
    "version": 3
   },
   "file_extension": ".py",
   "mimetype": "text/x-python",
   "name": "python",
   "nbconvert_exporter": "python",
   "pygments_lexer": "ipython3",
   "version": "3.9.5"
  },
  "vscode": {
   "interpreter": {
    "hash": "81794d4967e6c3204c66dcd87b604927b115b27c00565d3d43f05ba2f3a2cb0d"
   }
  }
 },
 "nbformat": 4,
 "nbformat_minor": 4
}
