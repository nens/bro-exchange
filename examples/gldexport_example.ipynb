{
 "cells": [
  {
   "cell_type": "code",
   "execution_count": 1,
   "metadata": {},
   "outputs": [
    {
     "name": "stdout",
     "output_type": "stream",
     "text": [
      "                      timestamp  value                                 gml_id  \\\n",
      "0     2021-12-16T12:00:00+01:00  0.531  _7887e548-7ca3-4ebf-8497-4a20edf48714   \n",
      "1     2021-12-16T13:00:00+01:00  0.532  _7887e548-7ca3-4ebf-8497-4a20edf48714   \n",
      "2     2021-12-16T14:00:00+01:00  0.531  _7887e548-7ca3-4ebf-8497-4a20edf48714   \n",
      "3     2021-12-16T15:00:00+01:00  0.532  _7887e548-7ca3-4ebf-8497-4a20edf48714   \n",
      "4     2021-12-16T16:00:00+01:00  0.531  _7887e548-7ca3-4ebf-8497-4a20edf48714   \n",
      "...                         ...    ...                                    ...   \n",
      "1015  2021-01-12T10:09:00+01:00  0.610  _9179a6ed-8b0e-42b6-94c0-a6a0fe43a26c   \n",
      "1016  2021-07-09T09:54:00+02:00  0.130  _9179a6ed-8b0e-42b6-94c0-a6a0fe43a26c   \n",
      "1017  2021-10-19T10:06:00+02:00  0.360  _9179a6ed-8b0e-42b6-94c0-a6a0fe43a26c   \n",
      "1018  2022-01-12T10:52:24+01:00  0.530  _9179a6ed-8b0e-42b6-94c0-a6a0fe43a26c   \n",
      "1019  2022-04-11T14:30:18+02:00  0.400  _9179a6ed-8b0e-42b6-94c0-a6a0fe43a26c   \n",
      "\n",
      "                                  procedure             status  \n",
      "0     _c718ba47-2ae8-4af4-bf4d-606a03b53c12  nogNietBeoordeeld  \n",
      "1     _c718ba47-2ae8-4af4-bf4d-606a03b53c12  nogNietBeoordeeld  \n",
      "2     _c718ba47-2ae8-4af4-bf4d-606a03b53c12  nogNietBeoordeeld  \n",
      "3     _c718ba47-2ae8-4af4-bf4d-606a03b53c12  nogNietBeoordeeld  \n",
      "4     _c718ba47-2ae8-4af4-bf4d-606a03b53c12  nogNietBeoordeeld  \n",
      "...                                     ...                ...  \n",
      "1015  _a5e70689-2203-471e-bf88-1a8b701d5af1        goedgekeurd  \n",
      "1016  _a5e70689-2203-471e-bf88-1a8b701d5af1        goedgekeurd  \n",
      "1017  _a5e70689-2203-471e-bf88-1a8b701d5af1        goedgekeurd  \n",
      "1018  _a5e70689-2203-471e-bf88-1a8b701d5af1        goedgekeurd  \n",
      "1019  _a5e70689-2203-471e-bf88-1a8b701d5af1        goedgekeurd  \n",
      "\n",
      "[1020 rows x 5 columns]\n"
     ]
    }
   ],
   "source": [
    "import gwmpy as gwm\n",
    "from importlib import reload # reload \n",
    "\n",
    "#reload(gwm) #Werkt niet zonder deze, waarom?\n",
    "data = gwm.get_gld_json_data(startDate=\"2022-01-01\", endDate=\"2022-01-02\", objectID=\"GLD000000015082\", dataFrameFormat=False)\n",
    "\n",
    "print(data)\n",
    "\n"
   ]
  }
 ],
 "metadata": {
  "kernelspec": {
   "display_name": "Python 3.8.10 64-bit",
   "language": "python",
   "name": "python3"
  },
  "language_info": {
   "codemirror_mode": {
    "name": "ipython",
    "version": 3
   },
   "file_extension": ".py",
   "mimetype": "text/x-python",
   "name": "python",
   "nbconvert_exporter": "python",
   "pygments_lexer": "ipython3",
   "version": "3.8.10"
  },
  "orig_nbformat": 4,
  "vscode": {
   "interpreter": {
    "hash": "da04683289e8dd37da609fe76c9d5315301d3fd9167ff9a68e814e509c69678e"
   }
  }
 },
 "nbformat": 4,
 "nbformat_minor": 2
}
