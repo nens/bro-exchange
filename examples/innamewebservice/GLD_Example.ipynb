{
 "cells": [
  {
   "cell_type": "markdown",
   "metadata": {},
   "source": [
    "# GLD Example"
   ]
  },
  {
   "cell_type": "markdown",
   "metadata": {},
   "source": [
    "This notebook demonstrates how to generate groundwaterlevel research (GLD) related sourcedocuments for data exchange with the bronhouderportaal (BRO). Also, it is shown how to validate these documents and upload them with the bronhouderportaal api. "
   ]
  },
  {
   "cell_type": "code",
   "execution_count": 3,
   "metadata": {},
   "outputs": [],
   "source": [
    "import bro_exchange as brx\n",
    "from getpass import getpass"
   ]
  },
  {
   "cell_type": "markdown",
   "metadata": {},
   "source": [
    "Define the token used for authentification with the Bronhouderportaal API below. Note: a token generated in the demo environment should be used."
   ]
  },
  {
   "cell_type": "code",
   "execution_count": 5,
   "metadata": {},
   "outputs": [],
   "source": [
    "user = input('user:')\n",
    "key = getpass('pass:')\n",
    "\n",
    "acces_token_bro_portal = {\n",
    "    'user':user,\n",
    "    'pass':key\n",
    "    }"
   ]
  },
  {
   "cell_type": "markdown",
   "metadata": {},
   "source": [
    "## 1. Registrate a new GLD"
   ]
  },
  {
   "cell_type": "markdown",
   "metadata": {},
   "source": [
    "### 1.1. Generate registration request xml document"
   ]
  },
  {
   "cell_type": "markdown",
   "metadata": {},
   "source": [
    "Get GLD data:"
   ]
  },
  {
   "cell_type": "code",
   "execution_count": 6,
   "metadata": {},
   "outputs": [],
   "source": [
    "monitoringpoints = [{'broId':'brx000000016118',\n",
    "                     \n",
    "                   'tubeNumber':1}]\n",
    "\n",
    "groundwatermonitoringnets = [{'broId':'GMN000000000083'},\n",
    "                             {'broId':'GMN000000000084'}]\n",
    "\n",
    "#%% Inputdata for brx_Construction sourcedocument\n",
    "\n",
    "srcdocdata =  {'objectIdAccountableParty':'Meetpunt1',\n",
    "            'groundwaterMonitoringNets':groundwatermonitoringnets, #     \n",
    "            'monitoringPoints':monitoringpoints,        #\n",
    "            }    \n"
   ]
  },
  {
   "cell_type": "markdown",
   "metadata": {},
   "source": [
    "Generate registartion request (GLD_StartRegistration) xml file:"
   ]
  },
  {
   "cell_type": "code",
   "execution_count": 8,
   "metadata": {},
   "outputs": [],
   "source": [
    "# NOTE: DEFINE OUTPUT DIRECTORY:\n",
    "reg = brx.gld_registration_request(srcdoc='GLD_StartRegistration', requestReference = '10_GLD_StartRegistration', deliveryAccountableParty = '27376655', qualityRegime = 'IMBRO', srcdocdata=srcdocdata)\n",
    "reg.generate()\n",
    "reg.write_request(output_dir = 'output\\gld', filename = 'registration_request_gld_startregistration_test.xml')\n"
   ]
  },
  {
   "cell_type": "markdown",
   "metadata": {},
   "source": [
    "### 1.2. Validate registration request xml document"
   ]
  },
  {
   "cell_type": "markdown",
   "metadata": {},
   "source": [
    "Validate the generated sourcedocument (by means of bronhouderportaal api). In this case, the demo environment of the bronhouderportaal is used."
   ]
  },
  {
   "cell_type": "code",
   "execution_count": 10,
   "metadata": {},
   "outputs": [],
   "source": [
    "payload = reg.request\n"
   ]
  },
  {
   "cell_type": "markdown",
   "metadata": {},
   "source": [
    "Check if there are some errors:"
   ]
  },
  {
   "cell_type": "code",
   "execution_count": 11,
   "metadata": {},
   "outputs": [
    {
     "name": "stdout",
     "output_type": "stream",
     "text": [
      "NIET_VALIDE\n",
      "\n",
      "ERRORS:\n",
      "GMW-monitoringbuis.broId (GroundwaterMonitoringTube.broId) = brx000000016118 heeft geen correct formaat: moet zijn GMWNNNNNNNNNNNN.\n",
      "\n",
      "GMW-monitoringbuis (GroundwaterMonitoringTube) ( brx000000016118, 1 ) [BRO-ID, buisnummer] is niet correct. De combinatie van Monitoringbuis en buisnummer is onbekend.\n",
      "\n",
      "Er zijn 1 of meer fouten geconstateerd in het brondocument.\n",
      "\n"
     ]
    }
   ],
   "source": [
    "#payload = reg.request\n",
    "validation_info = brx.validate_request(payload, acces_token_bro_portal, demo=True)\n",
    "\n",
    "print(validation_info['status']+'\\n')\n",
    "try:\n",
    "    \n",
    "    print('ERRORS:')\n",
    "    for error in validation_info['errors']:\n",
    "        print(error+'\\n')\n",
    "except:\n",
    "    None\n"
   ]
  },
  {
   "cell_type": "markdown",
   "metadata": {},
   "source": [
    "The xml document seems to be valid"
   ]
  },
  {
   "cell_type": "markdown",
   "metadata": {},
   "source": [
    "## 2. Add groundwaterlevel data to GLD"
   ]
  },
  {
   "cell_type": "markdown",
   "metadata": {},
   "source": [
    "### 2.1. Generating registration request xml document"
   ]
  },
  {
   "cell_type": "markdown",
   "metadata": {},
   "source": [
    "Get groundwaterlevel data (in this case three seperate timeseries for the same GLD, that subsequently contain partly validated, validated and verification measurements)"
   ]
  },
  {
   "cell_type": "code",
   "execution_count": 12,
   "metadata": {},
   "outputs": [],
   "source": [
    "# Parameters voorlopig & volledig beoordeeld:\n",
    "metadata_parameters_1= {'principalInvestigator':{'europeanCompanyRegistrationNumber':'DEB8537.HRB66039'}, # kvk principalinvestigator\n",
    "            'observationType':'reguliereMeting'\n",
    "             }\n",
    "\n",
    "procedure_parameters_1 = {'airPressureCompensationType':'KNMImeting',\n",
    "                        'evaluationProcedure':'oordeelDeskundige',\n",
    "                        'measurementInstrumentType':'akoestischeSensor'   \n",
    "                        }\n",
    "\n",
    "# Parameters controlemeting:\n",
    "metadata_parameters_2= {'principalInvestigator':'27376655',\n",
    "            'observationType':'controlemeting'\n",
    "             }\n",
    "\n",
    "\n",
    "\n",
    "procedure_parameters_2 = {'evaluationProcedure':'oordeelDeskundige',\n",
    "                        'measurementInstrumentType':'analoogPeilklokje'   \n",
    "                        }\n",
    "\n",
    "# Timeseriesdata (Eenheid is verplicht meter tov NAP):\n",
    "results_voorlopig = [{'time':'2018-01-07T08:14:38+01:00','value':-4.345,'metadata':{'StatusQualityControl':'goedgekeurd','interpolationType':'Discontinuous'}},#'censoredReason':}}\n",
    "                    {'time':'2018-01-21T10:01:52+01:00','value':'None','metadata':{'StatusQualityControl':'afgekeurd','interpolationType':'Discontinuous','censoringLimitvalue':0,'censoredReason':'BelowDetectionRange'}} ,                      \n",
    "                    {'time':'2018-01-28T16:58:07+01:00','value':-4.788,'metadata':{'StatusQualityControl':'goedgekeurd','interpolationType':'Discontinuous'}},#'censoredReason':}}                        \n",
    "                    ]\n",
    "\n",
    "results_controle = [{'time':'2018-04-15T08:05:42+02:00','value':-4.350,'metadata':{'StatusQualityControl':'goedgekeurd','interpolationType':'Discontinuous'}}\n",
    "                    ]\n",
    "\n",
    "results_volledig_beoordeeld = [{'time':'2018-01-07T08:14:38+01:00','value':-4.345,'metadata':{'StatusQualityControl':'goedgekeurd','interpolationType':'Discontinuous'}},#'censoredReason':}}\n",
    "                    {'time':'2018-01-21T10:01:52+01:00','value':-4.987,'metadata':{'StatusQualityControl':'goedgekeurd','interpolationType':'Discontinuous'}},#'censoredReason':}}                        \n",
    "                    {'time':'2018-01-28T16:58:07+01:00','value':-4.788,'metadata':{'StatusQualityControl':'goedgekeurd','interpolationType':'Discontinuous'}},#'censoredReason':}}                        \n",
    "                    ]\n",
    "\n",
    "    \n",
    "# Input arguments sourcedocs additions (voorlopig, volledigBeoordeeld & controlemeting)  \n",
    "arglist_voorlopig =  {'metadata':{'status':'voorlopig','parameters':metadata_parameters_1},\n",
    "                        'procedure':{'parameters':procedure_parameters_1}, \n",
    "                        'resultTime':'2018-01-28T16:58:07+01:00',\n",
    "                        'result':results_voorlopig, \n",
    "                        }    \n",
    "\n",
    "arglist_controle =  {'metadata':{'parameters':metadata_parameters_2}, \n",
    "                        'procedure':{'parameters':procedure_parameters_2},\n",
    "                        'resultTime':'2018-04-15T08:05:42+02:00',\n",
    "                        'result':results_controle, \n",
    "                        }  \n",
    "\n",
    "arglist_volledig_beoordeeld =  {'metadata':{'status':'volledigBeoordeeld','parameters':metadata_parameters_1},\n",
    "                                    'procedure':'_047e1b31-5406-4c68-af73-303e3f057881',\n",
    "                                    'resultTime':'2018-05-28T16:58:07+01:00', # Resultaat volledig beoordeeld is als de validatie is afgerond\n",
    "                                    'result':results_volledig_beoordeeld, \n",
    "                                    }   \n"
   ]
  },
  {
   "cell_type": "markdown",
   "metadata": {},
   "source": [
    "Create and validate the registration requests (gld_additions):"
   ]
  },
  {
   "cell_type": "code",
   "execution_count": 13,
   "metadata": {},
   "outputs": [
    {
     "name": "stdout",
     "output_type": "stream",
     "text": [
      "Registration request partly validated series:\n",
      "\n",
      "NIET_VALIDE\n",
      "\n",
      "ERRORS:\n",
      "\n",
      "GMW-monitoringbuis.broId (GroundwaterMonitoringTube.broId) = brx000000016118 heeft geen correct formaat: moet zijn GMWNNNNNNNNNNNN.\n",
      "\n",
      "GMW-monitoringbuis (GroundwaterMonitoringTube) ( brx000000016118, 1 ) [BRO-ID, buisnummer] is niet correct. De combinatie van Monitoringbuis en buisnummer is onbekend.\n",
      "\n",
      "Er zijn 1 of meer fouten geconstateerd in het brondocument.\n",
      "\n",
      "-------------------\n",
      "\n",
      "Registration request verification series:\n",
      "\n",
      "NIET_VALIDE\n",
      "\n",
      "ERRORS:\n",
      "\n",
      "GMW-monitoringbuis.broId (GroundwaterMonitoringTube.broId) = brx000000016118 heeft geen correct formaat: moet zijn GMWNNNNNNNNNNNN.\n",
      "\n",
      "GMW-monitoringbuis (GroundwaterMonitoringTube) ( brx000000016118, 1 ) [BRO-ID, buisnummer] is niet correct. De combinatie van Monitoringbuis en buisnummer is onbekend.\n",
      "\n",
      "Er zijn 1 of meer fouten geconstateerd in het brondocument.\n",
      "\n",
      "-------------------\n",
      "\n",
      "Registration request validated series:\n",
      "\n",
      "NIET_VALIDE\n",
      "\n",
      "ERRORS:\n",
      "\n",
      "GMW-monitoringbuis.broId (GroundwaterMonitoringTube.broId) = brx000000016118 heeft geen correct formaat: moet zijn GMWNNNNNNNNNNNN.\n",
      "\n",
      "GMW-monitoringbuis (GroundwaterMonitoringTube) ( brx000000016118, 1 ) [BRO-ID, buisnummer] is niet correct. De combinatie van Monitoringbuis en buisnummer is onbekend.\n",
      "\n",
      "Er zijn 1 of meer fouten geconstateerd in het brondocument.\n",
      "\n",
      "-------------------\n",
      "\n"
     ]
    }
   ],
   "source": [
    "# voorlopig\n",
    "print(\"Registration request partly validated series:\\n\")\n",
    "reg_voorlopig = brx.gld_registration_request(srcdoc='GLD_Addition', requestReference = '11_GLD_Addition_sensorisch', deliveryAccountableParty = '27376655', qualityRegime = 'IMBRO',broId='GLD000000000153', srcdocdata=arglist_voorlopig)\n",
    "reg_voorlopig.generate()\n",
    "reg_voorlopig.write_request(output_dir = 'output\\gld', filename = 'registration_request_gld_addition_voorlopig_test.xml')\n",
    "\n",
    "payload = reg_voorlopig.request\n",
    "\n",
    "print(validation_info['status']+'\\n')\n",
    "try:\n",
    "    \n",
    "    print('ERRORS:\\n')\n",
    "    for error in validation_info['errors']:\n",
    "        print(error+'\\n')\n",
    "except:\n",
    "    None\n",
    "print('-------------------\\n')\n",
    "\n",
    "# controle\n",
    "print(\"Registration request verification series:\\n\")\n",
    "reg_controle = brx.gld_registration_request(srcdoc='GLD_Addition', requestReference = '11_GLD_Addition_sensorisch', deliveryAccountableParty = '27376655', qualityRegime = 'IMBRO',broId='GLD000000000153', srcdocdata=arglist_controle)\n",
    "reg_controle.generate()\n",
    "reg_controle.write_request(output_dir = 'output\\gld', filename = 'registration_request_gld_addition_controle_test.xml')\n",
    "\n",
    "payload = reg_voorlopig.request\n",
    "\n",
    "print(validation_info['status']+'\\n')\n",
    "try:\n",
    "    \n",
    "    print('ERRORS:\\n')\n",
    "    for error in validation_info['errors']:\n",
    "        print(error+'\\n')\n",
    "except:\n",
    "    None\n",
    "print('-------------------\\n')\n",
    "# volledig\n",
    "print(\"Registration request validated series:\\n\")\n",
    "reg_volledig = brx.gld_registration_request(srcdoc='GLD_Addition', requestReference = '11_GLD_Addition_sensorisch', deliveryAccountableParty = '27376655', qualityRegime = 'IMBRO',broId='GLD000000000153', srcdocdata=arglist_volledig_beoordeeld)\n",
    "reg_volledig.generate()\n",
    "reg_volledig.write_request(output_dir = 'output\\gld', filename = 'registration_request_gld_addition_volledig_test.xml')\n",
    "\n",
    "payload = reg_voorlopig.request\n",
    "\n",
    "print(validation_info['status']+'\\n')\n",
    "try:\n",
    "    \n",
    "    print('ERRORS:\\n')\n",
    "    for error in validation_info['errors']:\n",
    "        print(error+'\\n')\n",
    "except:\n",
    "    None\n",
    "print('-------------------\\n')\n"
   ]
  },
  {
   "cell_type": "code",
   "execution_count": null,
   "metadata": {},
   "outputs": [],
   "source": []
  }
 ],
 "metadata": {
  "kernelspec": {
   "display_name": "Python 3.9.5 64-bit",
   "language": "python",
   "name": "python3"
  },
  "language_info": {
   "codemirror_mode": {
    "name": "ipython",
    "version": 3
   },
   "file_extension": ".py",
   "mimetype": "text/x-python",
   "name": "python",
   "nbconvert_exporter": "python",
   "pygments_lexer": "ipython3",
   "version": "3.9.5"
  },
  "vscode": {
   "interpreter": {
    "hash": "81794d4967e6c3204c66dcd87b604927b115b27c00565d3d43f05ba2f3a2cb0d"
   }
  }
 },
 "nbformat": 4,
 "nbformat_minor": 4
}
