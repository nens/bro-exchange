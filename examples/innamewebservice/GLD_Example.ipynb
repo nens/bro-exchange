{
 "cells": [
  {
   "cell_type": "markdown",
   "metadata": {},
   "source": [
    "# GLD Example"
   ]
  },
  {
   "cell_type": "markdown",
   "metadata": {},
   "source": [
    "This notebook demonstrates how to generate groundwaterlevel research (GLD) related requests for data exchange with the bronhouderportaal (BRO). Also, it is shown how to validate these requests and deliver them to the bronhouderportaal. "
   ]
  },
  {
   "cell_type": "code",
   "execution_count": 1,
   "metadata": {},
   "outputs": [],
   "source": [
    "import bro_exchange as brx\n",
    "from getpass import getpass"
   ]
  },
  {
   "cell_type": "markdown",
   "metadata": {},
   "source": [
    "Define the token used for authentification (Bronhouderportaal API) below. Note: a token generated in the demo environment should be used. Besides, the project id should be given when using api v2."
   ]
  },
  {
   "cell_type": "code",
   "execution_count": 2,
   "metadata": {},
   "outputs": [],
   "source": [
    "user = input('user:')\n",
    "password = getpass('pass:')\n",
    "project_id = input('project_id:')"
   ]
  },
  {
   "cell_type": "markdown",
   "metadata": {},
   "source": [
    "## 1. Register a new GLD registration"
   ]
  },
  {
   "cell_type": "markdown",
   "metadata": {},
   "source": [
    "### 1.1. Generate registration request"
   ]
  },
  {
   "cell_type": "markdown",
   "metadata": {},
   "source": [
    "Get GLD data:"
   ]
  },
  {
   "cell_type": "code",
   "execution_count": 3,
   "metadata": {},
   "outputs": [],
   "source": [
    "monitoringpoints = [{'broId':'GMW000000042661',\n",
    "                     \n",
    "                   'tubeNumber':1}]\n",
    "\n",
    "groundwatermonitoringnets = [{'broId':'GMN000000000083'},\n",
    "                             {'broId':'GMN000000000084'}]\n",
    "\n",
    "\n",
    "srcdocdata =  {'objectIdAccountableParty':'Meetpunt1',\n",
    "            'groundwaterMonitoringNets':groundwatermonitoringnets, #     \n",
    "            'monitoringPoints':monitoringpoints,        #\n",
    "            }    \n"
   ]
  },
  {
   "cell_type": "markdown",
   "metadata": {},
   "source": [
    "Generate registration request (GLD_StartRegistration):"
   ]
  },
  {
   "cell_type": "code",
   "execution_count": 20,
   "metadata": {},
   "outputs": [],
   "source": [
    "# NOTE: DEFINE OUTPUT DIRECTORY:\n",
    "reg = brx.gld_registration_request(srcdoc='GLD_StartRegistration', requestReference = '10_GLD_StartRegistration', deliveryAccountableParty = '27376655', qualityRegime = 'IMBRO', srcdocdata=srcdocdata)\n",
    "reg.generate()\n",
    "reg.write_request(output_dir = 'output\\gld', filename = 'registration_request_gld_startregistration_test.xml')\n"
   ]
  },
  {
   "cell_type": "markdown",
   "metadata": {},
   "source": [
    "### 1.2. Validate registration request"
   ]
  },
  {
   "cell_type": "markdown",
   "metadata": {},
   "source": [
    "Validate the generated request (by means of bronhouderportaal api). In this case, the demo environment of the bronhouderportaal is used."
   ]
  },
  {
   "cell_type": "code",
   "execution_count": 21,
   "metadata": {},
   "outputs": [],
   "source": [
    "reg.validate(user=user, password = password, demo=True, api='v2', project_id = project_id)"
   ]
  },
  {
   "cell_type": "markdown",
   "metadata": {},
   "source": [
    "Check if there are some errors:"
   ]
  },
  {
   "cell_type": "code",
   "execution_count": 22,
   "metadata": {},
   "outputs": [
    {
     "name": "stdout",
     "output_type": "stream",
     "text": [
      "VALIDE\n",
      "{'status': 'VALIDE'}\n"
     ]
    }
   ],
   "source": [
    "print(reg.validation_status)\n",
    "print(reg.validation_info)"
   ]
  },
  {
   "cell_type": "markdown",
   "metadata": {},
   "source": [
    "The request seems to be valid"
   ]
  },
  {
   "cell_type": "markdown",
   "metadata": {},
   "source": [
    "### 1.3. Deliver registration request"
   ]
  },
  {
   "cell_type": "markdown",
   "metadata": {},
   "source": [
    "Deliver the generared request. "
   ]
  },
  {
   "cell_type": "code",
   "execution_count": 23,
   "metadata": {},
   "outputs": [
    {
     "name": "stdout",
     "output_type": "stream",
     "text": [
      "{'identifier': '0000182628', 'status': 'AANGELEVERD', 'lastChanged': '2022-11-16T01:25:57.157241', 'brondocuments': [{'id': 418616, 'status': 'GELDIG', 'lastChanged': '2022-11-16T01:25:57.179702', 'filename': '79a19c2c6aa4.xml', 'requestReference': '10_GLD_StartRegistration'}]}\n",
      "0000182628\n"
     ]
    }
   ],
   "source": [
    "reg.deliver(user=user, password=password, api='v2', project_id = 1255, demo=True)\n",
    "print(reg.delivery_info.json())\n",
    "print(reg.delivery_id)"
   ]
  },
  {
   "cell_type": "markdown",
   "metadata": {},
   "source": [
    "After the request has been deliverd, the delivery id can be stored to track the status."
   ]
  },
  {
   "cell_type": "code",
   "execution_count": 8,
   "metadata": {},
   "outputs": [],
   "source": [
    "delivery_id = reg.delivery_id"
   ]
  },
  {
   "cell_type": "markdown",
   "metadata": {},
   "source": [
    "### 1.4. Track status of pending delivery"
   ]
  },
  {
   "cell_type": "markdown",
   "metadata": {},
   "source": [
    "To track the status of a pending delivery, the 'check_status' function of bro-exchange can be used. It only requires the delivery id, api version, environment and the authentication data. If api v2 is used, the project id should also be supplied:"
   ]
  },
  {
   "cell_type": "code",
   "execution_count": 24,
   "metadata": {},
   "outputs": [
    {
     "name": "stdout",
     "output_type": "stream",
     "text": [
      "{'identifier': '0000182622', 'status': 'DOORGELEVERD', 'lastChanged': '2022-11-16T01:21:45.029849', 'brondocuments': [{'id': 418610, 'status': 'OPGENOMEN_LVBRO', 'lastChanged': '2022-11-16T01:21:44.790847', 'broId': 'GLD000000054499', 'transactionId': 'GLD-000000190176', 'filename': 'f56689867a92.xml', 'requestReference': '10_GLD_StartRegistration'}]}\n"
     ]
    }
   ],
   "source": [
    "status = brx.check_delivery_status(delivery_id, user=user, password=password, api='v2', project_id = project_id, demo=True)\n",
    "print(status.json())"
   ]
  },
  {
   "cell_type": "markdown",
   "metadata": {},
   "source": [
    "If the delivery has been accepted, the BRO id can be retrieved from the status:"
   ]
  },
  {
   "cell_type": "code",
   "execution_count": 25,
   "metadata": {},
   "outputs": [
    {
     "name": "stdout",
     "output_type": "stream",
     "text": [
      "GLD000000054499\n"
     ]
    }
   ],
   "source": [
    "broid_gld = status.json()['brondocuments'][0]['broId']\n",
    "print(broid_gld)"
   ]
  },
  {
   "cell_type": "markdown",
   "metadata": {},
   "source": [
    "## 2. Add groundwaterlevel data to GLD"
   ]
  },
  {
   "cell_type": "markdown",
   "metadata": {},
   "source": [
    "### 2.1. Generating addition request"
   ]
  },
  {
   "cell_type": "markdown",
   "metadata": {},
   "source": [
    "Get groundwaterlevel data. Three type of timeseries can be distinguished: regulier voorlopig, regulier volledig beoordeeld, controlemeting."
   ]
  },
  {
   "cell_type": "code",
   "execution_count": 32,
   "metadata": {},
   "outputs": [],
   "source": [
    "# Parameters voorlopig & volledig beoordeeld:\n",
    "metadata_parameters_1= {'principalInvestigator':'27376655', # kvk principalinvestigator\n",
    "            'observationType':'reguliereMeting'\n",
    "             }\n",
    "\n",
    "procedure_parameters_1 = {\n",
    "                        'evaluationProcedure':'oordeelDeskundige',\n",
    "                        'measurementInstrumentType':'akoestischeSensor'   \n",
    "                        }\n",
    "\n",
    "# Parameters controlemeting:\n",
    "metadata_parameters_2= {'principalInvestigator':'27376655',\n",
    "            'observationType':'controlemeting'\n",
    "             }\n",
    "\n",
    "\n",
    "\n",
    "procedure_parameters_2 = {'evaluationProcedure':'oordeelDeskundige',\n",
    "                        'measurementInstrumentType':'analoogPeilklokje'   \n",
    "                        }\n",
    "\n",
    "# Timeseriesdata (Eenheid is verplicht meter tov NAP):\n",
    "results_voorlopig = [{'time':'2019-01-07T08:14:38+01:00','value':-4.345,'metadata':{'StatusQualityControl':'goedgekeurd','interpolationType':'Discontinuous'}},#'censoredReason':}}\n",
    "                    {'time':'2019-01-21T10:01:52+01:00','value':'None','metadata':{'StatusQualityControl':'afgekeurd','interpolationType':'Discontinuous','censoringLimitvalue':0,'censoredReason':'BelowDetectionRange'}} ,                      \n",
    "                    {'time':'2019-01-28T16:58:07+01:00','value':-4.788,'metadata':{'StatusQualityControl':'goedgekeurd','interpolationType':'Discontinuous'}},#'censoredReason':}}                        \n",
    "                    ]\n",
    "\n",
    "results_controle = [{'time':'2018-04-15T08:05:42+02:00','value':-4.350,'metadata':{'StatusQualityControl':'goedgekeurd','interpolationType':'Discontinuous'}}\n",
    "                    ]\n",
    "\n",
    "results_volledig_beoordeeld = [{'time':'2019-01-07T08:14:38+01:00','value':-4.345,'metadata':{'StatusQualityControl':'goedgekeurd','interpolationType':'Discontinuous'}},#'censoredReason':}}\n",
    "                    {'time':'2019-01-21T10:01:52+01:00','value':-4.987,'metadata':{'StatusQualityControl':'goedgekeurd','interpolationType':'Discontinuous'}},#'censoredReason':}}                        \n",
    "                    {'time':'2019-01-28T16:58:07+01:00','value':-4.788,'metadata':{'StatusQualityControl':'goedgekeurd','interpolationType':'Discontinuous'}},#'censoredReason':}}                        \n",
    "                    ]\n",
    "\n",
    "    \n",
    "# Input arguments sourcedocs additions (voorlopig, volledigBeoordeeld & controlemeting)  \n",
    "arglist_voorlopig =  {'metadata':{'status':'voorlopig','parameters':metadata_parameters_1,'dateStamp':'2019-01-28'},\n",
    "                        'procedure':{'parameters':procedure_parameters_1}, \n",
    "                        'resultTime':'2019-01-28T16:58:07+01:00',\n",
    "                        'result':results_voorlopig, \n",
    "                        }    \n",
    "\n",
    "arglist_controle =  {'metadata':{'parameters':metadata_parameters_2,'dateStamp':'2018-04-15'}, \n",
    "                        'procedure':{'parameters':procedure_parameters_2},\n",
    "                        'resultTime':'2018-04-15T08:05:42+02:00',\n",
    "                        'result':results_controle, \n",
    "                        }  \n",
    "\n",
    "arglist_volledig_beoordeeld =  {'metadata':{'status':'volledigBeoordeeld','parameters':metadata_parameters_1,'dateStamp':'2019-05-28'},\n",
    "                                    'procedure':{'parameters':procedure_parameters_1},\n",
    "                                    'resultTime':'2019-05-28T16:58:07+01:00', # Resultaat volledig beoordeeld is als de validatie is afgerond\n",
    "                                    'result':results_volledig_beoordeeld, \n",
    "                                    }   \n"
   ]
  },
  {
   "cell_type": "markdown",
   "metadata": {},
   "source": [
    "Create and validate the registration requests (gld_additions):"
   ]
  },
  {
   "cell_type": "code",
   "execution_count": 33,
   "metadata": {},
   "outputs": [
    {
     "name": "stdout",
     "output_type": "stream",
     "text": [
      "Registration request partly validated series:\n",
      "\n",
      "VALIDE\n",
      "{'status': 'VALIDE'}\n",
      "-------------------\n",
      "\n",
      "Registration request verification series:\n",
      "\n",
      "VALIDE\n",
      "{'status': 'VALIDE'}\n",
      "-------------------\n",
      "\n",
      "Registration request validated series:\n",
      "\n",
      "VALIDE\n",
      "{'status': 'VALIDE'}\n",
      "-------------------\n",
      "\n"
     ]
    }
   ],
   "source": [
    "# voorlopig\n",
    "print(\"Registration request partly validated series:\\n\")\n",
    "reg_voorlopig = brx.gld_registration_request(srcdoc='GLD_Addition', requestReference = '11_GLD_Addition_sensorisch', deliveryAccountableParty = '27376655', qualityRegime = 'IMBRO',broId=broid_gld, srcdocdata=arglist_voorlopig)\n",
    "reg_voorlopig.generate()\n",
    "reg_voorlopig.write_request(output_dir = 'output\\gld', filename = 'registration_request_gld_addition_voorlopig_test.xml')\n",
    "\n",
    "reg_voorlopig.validate(user=user, password = password, demo=True, api='v2', project_id = project_id)\n",
    "\n",
    "print(reg_voorlopig.validation_status)\n",
    "print(reg_voorlopig.validation_info)\n",
    "\n",
    "print('-------------------\\n')\n",
    "\n",
    "# controle\n",
    "print(\"Registration request verification series:\\n\")\n",
    "reg_controle = brx.gld_registration_request(srcdoc='GLD_Addition', requestReference = '11_GLD_Addition_sensorisch', deliveryAccountableParty = '27376655', qualityRegime = 'IMBRO',broId=broid_gld, srcdocdata=arglist_controle)\n",
    "reg_controle.generate()\n",
    "reg_controle.write_request(output_dir = 'output\\gld', filename = 'registration_request_gld_addition_controle_test.xml')\n",
    "\n",
    "reg_controle.validate(user=user, password = password, demo=True, api='v2', project_id = project_id)\n",
    "print(reg_controle.validation_status)\n",
    "print(reg_controle.validation_info)\n",
    "\n",
    "print('-------------------\\n')\n",
    "# volledig\n",
    "print(\"Registration request validated series:\\n\")\n",
    "reg_volledig = brx.gld_registration_request(srcdoc='GLD_Addition', requestReference = '11_GLD_Addition_sensorisch', deliveryAccountableParty = '27376655', qualityRegime = 'IMBRO',broId=broid_gld, srcdocdata=arglist_volledig_beoordeeld)\n",
    "reg_volledig.generate()\n",
    "reg_volledig.write_request(output_dir = 'output\\gld', filename = 'registration_request_gld_addition_volledig_test.xml')\n",
    "\n",
    "payload = reg_voorlopig.request\n",
    "\n",
    "reg_volledig.validate(user=user, password = password, demo=True, api='v2', project_id = project_id)\n",
    "print(reg_volledig.validation_status)\n",
    "print(reg_volledig.validation_info)\n",
    "print('-------------------\\n')\n"
   ]
  },
  {
   "cell_type": "markdown",
   "metadata": {},
   "source": [
    "Deliver:"
   ]
  },
  {
   "cell_type": "code",
   "execution_count": 34,
   "metadata": {},
   "outputs": [
    {
     "name": "stdout",
     "output_type": "stream",
     "text": [
      "{'identifier': '0000182629', 'status': 'AANGELEVERD', 'lastChanged': '2022-11-16T01:28:38.51379', 'brondocuments': [{'id': 418617, 'status': 'GELDIG', 'lastChanged': '2022-11-16T01:28:38.537643', 'filename': 'ee9d761627d7.xml', 'requestReference': '11_GLD_Addition_sensorisch'}]}\n",
      "0000182629\n",
      "-------------------\n",
      "\n",
      "{'identifier': '0000182630', 'status': 'AANGELEVERD', 'lastChanged': '2022-11-16T01:28:39.446717', 'brondocuments': [{'id': 418618, 'status': 'GELDIG', 'lastChanged': '2022-11-16T01:28:39.470468', 'filename': '21f0677b6651.xml', 'requestReference': '11_GLD_Addition_sensorisch'}]}\n",
      "0000182630\n",
      "-------------------\n",
      "\n",
      "{'identifier': '0000182631', 'status': 'AANGELEVERD', 'lastChanged': '2022-11-16T01:28:40.414038', 'brondocuments': [{'id': 418619, 'status': 'GELDIG', 'lastChanged': '2022-11-16T01:28:40.436085', 'filename': '9e7fc463bc6a.xml', 'requestReference': '11_GLD_Addition_sensorisch'}]}\n",
      "0000182631\n",
      "-------------------\n",
      "\n"
     ]
    }
   ],
   "source": [
    "reg_voorlopig.deliver(user=user, password=password, api='v2', project_id = 1255, demo=True)\n",
    "print(reg_voorlopig.delivery_info.json())\n",
    "print(reg_voorlopig.delivery_id)\n",
    "\n",
    "print('-------------------\\n')\n",
    "\n",
    "reg_controle.deliver(user=user, password=password, api='v2', project_id = 1255, demo=True)\n",
    "print(reg_controle.delivery_info.json())\n",
    "print(reg_controle.delivery_id)\n",
    "\n",
    "print('-------------------\\n')\n",
    "\n",
    "reg_volledig.deliver(user=user, password=password, api='v2', project_id = 1255, demo=True)\n",
    "print(reg_volledig.delivery_info.json())\n",
    "print(reg_volledig.delivery_id)\n",
    "print('-------------------\\n')"
   ]
  },
  {
   "cell_type": "markdown",
   "metadata": {},
   "source": [
    "Check status:"
   ]
  },
  {
   "cell_type": "code",
   "execution_count": 36,
   "metadata": {},
   "outputs": [
    {
     "name": "stdout",
     "output_type": "stream",
     "text": [
      "{'identifier': '0000182629', 'status': 'DOORGELEVERD', 'lastChanged': '2022-11-16T01:28:43.369737', 'brondocuments': [{'id': 418617, 'status': 'OPGENOMEN_LVBRO', 'lastChanged': '2022-11-16T01:28:43.09891', 'broId': 'GLD000000054499', 'transactionId': 'GLD-000000190183', 'filename': 'ee9d761627d7.xml', 'requestReference': '11_GLD_Addition_sensorisch'}]}\n",
      "{'identifier': '0000182630', 'status': 'DOORGELEVERD', 'lastChanged': '2022-11-16T01:28:47.254766', 'brondocuments': [{'id': 418618, 'status': 'OPGENOMEN_LVBRO', 'lastChanged': '2022-11-16T01:28:47.025394', 'broId': 'GLD000000054499', 'transactionId': 'GLD-000000190184', 'filename': '21f0677b6651.xml', 'requestReference': '11_GLD_Addition_sensorisch'}]}\n",
      "{'identifier': '0000182631', 'status': 'DOORGELEVERD', 'lastChanged': '2022-11-16T01:29:10.310778', 'brondocuments': [{'id': 418619, 'status': 'OPGENOMEN_LVBRO', 'lastChanged': '2022-11-16T01:29:10.090622', 'broId': 'GLD000000054499', 'transactionId': 'GLD-000000190185', 'filename': '9e7fc463bc6a.xml', 'requestReference': '11_GLD_Addition_sensorisch'}]}\n"
     ]
    }
   ],
   "source": [
    "status = brx.check_delivery_status(reg_voorlopig.delivery_id, user=user, password=password, api='v2', project_id = project_id, demo=True)\n",
    "print(status.json())\n",
    "\n",
    "status = brx.check_delivery_status(reg_controle.delivery_id, user=user, password=password, api='v2', project_id = project_id, demo=True)\n",
    "print(status.json())\n",
    "\n",
    "status = brx.check_delivery_status(reg_volledig.delivery_id, user=user, password=password, api='v2', project_id = project_id, demo=True)\n",
    "print(status.json())"
   ]
  },
  {
   "cell_type": "code",
   "execution_count": null,
   "metadata": {},
   "outputs": [],
   "source": []
  }
 ],
 "metadata": {
  "kernelspec": {
   "display_name": "Python 3.9.5 64-bit",
   "language": "python",
   "name": "python3"
  },
  "language_info": {
   "codemirror_mode": {
    "name": "ipython",
    "version": 3
   },
   "file_extension": ".py",
   "mimetype": "text/x-python",
   "name": "python",
   "nbconvert_exporter": "python",
   "pygments_lexer": "ipython3",
   "version": "3.9.5"
  },
  "vscode": {
   "interpreter": {
    "hash": "81794d4967e6c3204c66dcd87b604927b115b27c00565d3d43f05ba2f3a2cb0d"
   }
  }
 },
 "nbformat": 4,
 "nbformat_minor": 4
}
