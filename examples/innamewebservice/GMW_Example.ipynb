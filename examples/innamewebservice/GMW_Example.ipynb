{
 "cells": [
  {
   "cell_type": "markdown",
   "metadata": {},
   "source": [
    "# GMW Example"
   ]
  },
  {
   "cell_type": "markdown",
   "metadata": {},
   "source": [
    "This notebook demonstrates how to register a groundwatermonitoringwell (GMW) in the BRO using bro-exchange."
   ]
  },
  {
   "cell_type": "code",
   "execution_count": 10,
   "metadata": {},
   "outputs": [],
   "source": [
    "import bro_exchange as brx\n",
    "from getpass import getpass"
   ]
  },
  {
   "cell_type": "markdown",
   "metadata": {},
   "source": [
    "Define the token used for authentification (Bronhouderportaal API) below. Note: a token generated in the demo environment should be used. Besides, the project id should be given when using api v2."
   ]
  },
  {
   "cell_type": "code",
   "execution_count": 11,
   "metadata": {},
   "outputs": [],
   "source": [
    "user = input('user:')\n",
    "password = getpass('pass:')\n",
    "project_id = input('project_id:')\n"
   ]
  },
  {
   "cell_type": "markdown",
   "metadata": {},
   "source": [
    "## 1. Register a new GMW"
   ]
  },
  {
   "cell_type": "markdown",
   "metadata": {},
   "source": [
    "### 1.1. Generate registration request"
   ]
  },
  {
   "cell_type": "markdown",
   "metadata": {},
   "source": [
    "Get GMW data:"
   ]
  },
  {
   "cell_type": "code",
   "execution_count": 12,
   "metadata": {},
   "outputs": [],
   "source": [
    "#%% Inputdata for monitoringtube elements\n",
    "\n",
    "electrodes = [{'electrodeNumber':1,\n",
    "               'electrodePackingMaterial':'zand',               \n",
    "               'electrodeStatus':'gebruiksklaar',               \n",
    "               'electrodePosition':-2.63,                              \n",
    "               },\n",
    "              {'electrodeNumber':2,\n",
    "               'electrodePackingMaterial':'zand',               \n",
    "               'electrodeStatus':'gebruiksklaar',               \n",
    "               'electrodePosition':-3.98,                              \n",
    "               }]\n",
    "\n",
    "\n",
    "materialUsed_tube = {'tubePackingMaterial':'bentoniet',\n",
    "                'tubeMaterial':'peHighDensity',\n",
    "                'glue':'geen'} \n",
    "\n",
    "screen =  {'screenLength':1,\n",
    "                'sockMaterial':'geen'} \n",
    "\n",
    "plainTubePart ={'plainTubePartLength':6.64}   \n",
    "\n",
    "sedimentSump = {'sedimentSumpLength':0.5} \n",
    "\n",
    "geoOhmCables = [{'cableNumber':1,\n",
    "               'electrodes':electrodes}]\n",
    "\n",
    "monitoringTubes = [{'tubeNumber':1,\n",
    "                    'tubeType':'standaardbuis',\n",
    "                    'artesianWellCapPresent':'nee',\n",
    "                    'sedimentSumpPresent':'ja',\n",
    "                    'numberOfGeoOhmCables':1,\n",
    "                    'tubeTopDiameter':32,\n",
    "                    'variableDiameter':'nee',\n",
    "                    'tubeStatus':'gebruiksklaar', \n",
    "                    'tubeTopPosition':3.42,\n",
    "                    'tubeTopPositioningMethod':'RTKGPS10tot20cm',\n",
    "                    'materialUsed':materialUsed_tube,\n",
    "                    'screen':screen, \n",
    "                    'plainTubePart':plainTubePart},\n",
    "                   {'tubeNumber':2,\n",
    "                    'tubeType':'standaardbuis',\n",
    "                    'artesianWellCapPresent':'nee',\n",
    "                    'sedimentSumpPresent':'ja',\n",
    "                    'numberOfGeoOhmCables':1,\n",
    "                    'tubeTopDiameter':32,\n",
    "                    'variableDiameter':'nee',\n",
    "                    'tubeStatus':'gebruiksklaar', \n",
    "                    'tubeTopPosition':3.42,\n",
    "                    'tubeTopPositioningMethod':'RTKGPS10tot20cm',\n",
    "                    'materialUsed':materialUsed_tube,\n",
    "                    'screen':screen, \n",
    "                    'plainTubePart':plainTubePart,\n",
    "                    'sedimentSump':sedimentSump, \n",
    "                    'geoOhmCables':geoOhmCables}]\n",
    "\n",
    "#%% Inputdata for GMW_Construction sourcedocument\n",
    "\n",
    "deliveredLocation = {'X':134750.0,'Y':477800.0,'horizontalPositioningMethod':'DGPS50tot200cm'}\n",
    "\n",
    "deliveredVerticalPosition = {'localVerticalReferencePoint':'NAP',\n",
    "                                'offset':0,\n",
    "                                'verticalDatum':'NAP',\n",
    "                                'groundLevelPosition':3.18,\n",
    "                                'groundLevelPositioningMethod':'RTKGPS10tot20cm'\n",
    "                                }\n",
    "\n",
    "srcdocdata =  {'objectIdAccountableParty':'B07F0076',\n",
    "                'deliveryContext':'publiekeTaak',        \n",
    "                'constructionStandard':'RWSgwmon',        \n",
    "                'initialFunction':'stand',        \n",
    "                'numberOfMonitoringTubes':2,        \n",
    "                'groundLevelStable':'ja',        \n",
    "                'wellStability':'instabiel',        \n",
    "                'nitgCode':'B07F0076',        \n",
    "                'owner':'27376655',        \n",
    "                'maintenanceResponsibleParty':'27376655',        \n",
    "                'wellHeadProtector':'geen',        \n",
    "                'wellConstructionDate':'2015-02-08',        \n",
    "                'deliveredLocation':deliveredLocation,        \n",
    "                'deliveredVerticalPosition':deliveredVerticalPosition,             \n",
    "                'monitoringTubes':monitoringTubes,              \n",
    "                }    "
   ]
  },
  {
   "cell_type": "markdown",
   "metadata": {},
   "source": [
    "Generate registration request (GMW_construction):"
   ]
  },
  {
   "cell_type": "code",
   "execution_count": 13,
   "metadata": {},
   "outputs": [],
   "source": [
    "# Generate sourcedocument:\n",
    "reg = brx.gmw_registration_request(srcdoc='GMW_Construction', requestReference = 'register - GMW_Construction - 018. IMBRO - groundwaterMonitoringWell.maintenanceResponsibleParty', deliveryAccountableParty = '52766179', qualityRegime = 'IMBRO', srcdocdata=srcdocdata)\n",
    "reg.generate()\n",
    "\n",
    "# Note: a file can be stored optionally, but it's not required\n",
    "reg.write_request(filename = 'registration_request_gmw_construction_test.xml', output_dir = 'output\\gmw')"
   ]
  },
  {
   "cell_type": "markdown",
   "metadata": {},
   "source": [
    "### 1.2. Validate registration request"
   ]
  },
  {
   "cell_type": "markdown",
   "metadata": {},
   "source": [
    "Validate the generated request. In this case, the demo environment of the bronhouderportaal is used for validation."
   ]
  },
  {
   "cell_type": "code",
   "execution_count": 14,
   "metadata": {},
   "outputs": [],
   "source": [
    "reg.validate(user=user, password = password, demo=True, api='v2', project_id = project_id)"
   ]
  },
  {
   "cell_type": "markdown",
   "metadata": {},
   "source": [
    "Check if there are some errors:"
   ]
  },
  {
   "cell_type": "code",
   "execution_count": 15,
   "metadata": {},
   "outputs": [
    {
     "name": "stdout",
     "output_type": "stream",
     "text": [
      "NIET_VALIDE\n",
      "{'status': 'NIET_VALIDE', 'errors': ['Grondwatermonitoringput.put stabiliteit (MonitoringWell.wellStability) mag niet aanwezig zijn:  Grondwatermonitoringput.maaiveld stabiel (MonitoringWell.groundLevelStable) = ja bepaalt dat het moet ontbreken.', 'Zandvang (SedimentSump) ontbreekt: het moet aanwezig zijn als Monitoringbuis. voorzien van zandvang (MonitoringTube.sedimentSumpPresent) = ja.', 'Geo-ohmkabel (GeoOhmCable) ontbreekt, {MonitoringWell.monitoringTube.numberOfGeoOhmCables} = 1 waarde bepaalt het aantal keer dat dit gegeven voorkomt.', 'Er zijn 1 of meer fouten geconstateerd in het brondocument.']}\n"
     ]
    }
   ],
   "source": [
    "print(reg.validation_status)\n",
    "print(reg.validation_info)"
   ]
  },
  {
   "cell_type": "markdown",
   "metadata": {},
   "source": [
    "The request isn't valid. Perform the required adjustments and validate the sourcedocument again:"
   ]
  },
  {
   "cell_type": "code",
   "execution_count": 17,
   "metadata": {},
   "outputs": [
    {
     "name": "stdout",
     "output_type": "stream",
     "text": [
      "VALIDE\n",
      "{'status': 'VALIDE'}\n"
     ]
    }
   ],
   "source": [
    "monitoringTubes[0]['numberOfGeoOhmCables']=0\n",
    "monitoringTubes[0]['sedimentSumpPresent']='nee'\n",
    "srcdocdata['groundLevelStable']='nee'\n",
    "srcdocdata['monitoringTubes']=monitoringTubes\n",
    "\n",
    "\n",
    "reg = brx.gmw_registration_request(srcdoc='GMW_Construction', requestReference = 'register - GMW_Construction - 018. IMBRO - groundwaterMonitoringWell.maintenanceResponsibleParty', deliveryAccountableParty = '52766179', qualityRegime = 'IMBRO', srcdocdata=srcdocdata)\n",
    "reg.generate()\n",
    "\n",
    "reg.validate(user=user, password = password, demo=True, api='v2', project_id = project_id)\n",
    "print(reg.validation_status)\n",
    "print(reg.validation_info)"
   ]
  },
  {
   "cell_type": "markdown",
   "metadata": {},
   "source": [
    "The xml document seems to be valid"
   ]
  },
  {
   "cell_type": "markdown",
   "metadata": {},
   "source": [
    "### 1.3. Deliver registration request"
   ]
  },
  {
   "cell_type": "markdown",
   "metadata": {},
   "source": [
    "Deliver the generared request. "
   ]
  },
  {
   "cell_type": "code",
   "execution_count": 18,
   "metadata": {},
   "outputs": [
    {
     "name": "stdout",
     "output_type": "stream",
     "text": [
      "{'identifier': '0000182615', 'status': 'AANGELEVERD', 'lastChanged': '2022-11-15T23:24:54.318933', 'brondocuments': [{'id': 418603, 'status': 'GELDIG', 'lastChanged': '2022-11-15T23:24:54.347512', 'filename': '8bbcc2326a75.xml', 'requestReference': 'register - GMW_Construction - 018. IMBRO - groundwaterMonitoringWell.maintenanceResponsibleParty'}]}\n",
      "0000182615\n"
     ]
    }
   ],
   "source": [
    "reg.deliver(user=user, password=password, api='v2', project_id = 1255, demo=True)\n",
    "print(reg.delivery_info.json())\n",
    "print(reg.delivery_id)"
   ]
  },
  {
   "cell_type": "markdown",
   "metadata": {},
   "source": [
    "The request is delivered, and the id is stored. After delivering, the request can't be deliverd again:"
   ]
  },
  {
   "cell_type": "code",
   "execution_count": 19,
   "metadata": {},
   "outputs": [
    {
     "ename": "Exception",
     "evalue": "Request has already been delivered",
     "output_type": "error",
     "traceback": [
      "\u001b[1;31m---------------------------------------------------------------------------\u001b[0m",
      "\u001b[1;31mException\u001b[0m                                 Traceback (most recent call last)",
      "Cell \u001b[1;32mIn [19], line 1\u001b[0m\n\u001b[1;32m----> 1\u001b[0m reg\u001b[39m.\u001b[39mdeliver(user\u001b[39m=\u001b[39muser, password\u001b[39m=\u001b[39mpassword, api\u001b[39m=\u001b[39m\u001b[39m'\u001b[39m\u001b[39mv2\u001b[39m\u001b[39m'\u001b[39m, project_id \u001b[39m=\u001b[39m \u001b[39m1255\u001b[39m, demo\u001b[39m=\u001b[39m\u001b[39mTrue\u001b[39;00m)\n",
      "File \u001b[1;32mc:\\Python39\\lib\\site-packages\\bro_exchange\\broxml\\gmw\\requests.py:245\u001b[0m, in \u001b[0;36mgmw_registration_request.deliver\u001b[1;34m(self, token, user, password, api, project_id, demo)\u001b[0m\n\u001b[0;32m    243\u001b[0m \u001b[39mdef\u001b[39;00m \u001b[39mdeliver\u001b[39m(\u001b[39mself\u001b[39m, token\u001b[39m=\u001b[39m\u001b[39mNone\u001b[39;00m, user\u001b[39m=\u001b[39m\u001b[39mNone\u001b[39;00m, password\u001b[39m=\u001b[39m \u001b[39mNone\u001b[39;00m, api\u001b[39m=\u001b[39m\u001b[39m'\u001b[39m\u001b[39mv1\u001b[39m\u001b[39m'\u001b[39m, project_id \u001b[39m=\u001b[39m \u001b[39mNone\u001b[39;00m, demo\u001b[39m=\u001b[39m\u001b[39mFalse\u001b[39;00m):\n\u001b[0;32m    244\u001b[0m     \u001b[39mif\u001b[39;00m \u001b[39mself\u001b[39m\u001b[39m.\u001b[39mdelivery_id\u001b[39m!=\u001b[39m\u001b[39mNone\u001b[39;00m:\n\u001b[1;32m--> 245\u001b[0m         \u001b[39mraise\u001b[39;00m \u001b[39mException\u001b[39;00m(\u001b[39m\"\u001b[39m\u001b[39mRequest has already been delivered\u001b[39m\u001b[39m\"\u001b[39m)\n\u001b[0;32m    246\u001b[0m     \u001b[39mif\u001b[39;00m \u001b[39mself\u001b[39m\u001b[39m.\u001b[39mvalidation_status \u001b[39m!=\u001b[39m \u001b[39m'\u001b[39m\u001b[39mVALIDE\u001b[39m\u001b[39m'\u001b[39m:\n\u001b[0;32m    247\u001b[0m         \u001b[39mraise\u001b[39;00m \u001b[39mException\u001b[39;00m(\u001b[39m\"\u001b[39m\u001b[39mRequest isn\u001b[39m\u001b[39m'\u001b[39m\u001b[39mt valid\u001b[39m\u001b[39m\"\u001b[39m)  \n",
      "\u001b[1;31mException\u001b[0m: Request has already been delivered"
     ]
    }
   ],
   "source": [
    "reg.deliver(user=user, password=password, api='v2', project_id = 1255, demo=True)"
   ]
  },
  {
   "cell_type": "markdown",
   "metadata": {},
   "source": [
    "After the request has been deliverd, the delivery id can be stored to track the status."
   ]
  },
  {
   "cell_type": "code",
   "execution_count": 21,
   "metadata": {},
   "outputs": [],
   "source": [
    "delivery_id = reg.delivery_id"
   ]
  },
  {
   "cell_type": "markdown",
   "metadata": {},
   "source": [
    "### 1.4. Track status of pending delivery"
   ]
  },
  {
   "cell_type": "markdown",
   "metadata": {},
   "source": [
    "To track the status of a pending delivery, the 'check_status' function of bro-exchange can be used. It only requires the delivery id, api version, environment and the authentication data. If api v2 is used, the project id should also be supplied:"
   ]
  },
  {
   "cell_type": "code",
   "execution_count": 22,
   "metadata": {},
   "outputs": [
    {
     "name": "stdout",
     "output_type": "stream",
     "text": [
      "{'identifier': '0000182615', 'status': 'DOORGELEVERD', 'lastChanged': '2022-11-15T23:24:58.310766', 'brondocuments': [{'id': 418603, 'status': 'OPGENOMEN_LVBRO', 'lastChanged': '2022-11-15T23:24:58.082592', 'broId': 'GMW000000042661', 'transactionId': 'GMW-000000046742', 'filename': '8bbcc2326a75.xml', 'requestReference': 'register - GMW_Construction - 018. IMBRO - groundwaterMonitoringWell.maintenanceResponsibleParty'}]}\n"
     ]
    }
   ],
   "source": [
    "status = brx.check_delivery_status(delivery_id, user=user, password=password, api='v2', project_id = project_id, demo=True)\n",
    "print(status.json())"
   ]
  },
  {
   "cell_type": "markdown",
   "metadata": {},
   "source": [
    "Retrieve the broid:"
   ]
  },
  {
   "cell_type": "code",
   "execution_count": 23,
   "metadata": {},
   "outputs": [
    {
     "name": "stdout",
     "output_type": "stream",
     "text": [
      "GMW000000042661\n"
     ]
    }
   ],
   "source": [
    "broid_GMW = status.json()['brondocuments'][0]['broId']\n",
    "print(broid_GMW)"
   ]
  },
  {
   "cell_type": "code",
   "execution_count": null,
   "metadata": {},
   "outputs": [],
   "source": []
  }
 ],
 "metadata": {
  "kernelspec": {
   "display_name": "Python 3.9.5 64-bit",
   "language": "python",
   "name": "python3"
  },
  "language_info": {
   "codemirror_mode": {
    "name": "ipython",
    "version": 3
   },
   "file_extension": ".py",
   "mimetype": "text/x-python",
   "name": "python",
   "nbconvert_exporter": "python",
   "pygments_lexer": "ipython3",
   "version": "3.9.5"
  },
  "vscode": {
   "interpreter": {
    "hash": "81794d4967e6c3204c66dcd87b604927b115b27c00565d3d43f05ba2f3a2cb0d"
   }
  }
 },
 "nbformat": 4,
 "nbformat_minor": 4
}
