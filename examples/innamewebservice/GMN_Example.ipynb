{
 "cells": [
  {
   "cell_type": "markdown",
   "metadata": {},
   "source": [
    "# GMN Example"
   ]
  },
  {
   "cell_type": "markdown",
   "metadata": {},
   "source": [
    "This notebook demonstrates how to generate different types of groundwatermonitoring (GMN) related sourcedocuments for data exchange with the bronhouderportaal (BRO). Also, it is shown how to validate these documents and upload them with the bronhouderportaal api. "
   ]
  },
  {
   "cell_type": "code",
   "execution_count": 1,
   "metadata": {},
   "outputs": [],
   "source": [
    "import bro_exchange as brx\n",
    "from getpass import getpass"
   ]
  },
  {
   "cell_type": "markdown",
   "metadata": {},
   "source": [
    "Define the token used for authentification with the Bronhouderportaal API below. Note: a token generated in the demo environment should be used."
   ]
  },
  {
   "cell_type": "code",
   "execution_count": 2,
   "metadata": {},
   "outputs": [],
   "source": [
    "user = input('user:')\n",
    "key = getpass('pass:')\n",
    "\n",
    "acces_token_bro_portal = {\n",
    "    'user':user,\n",
    "    'pass':key\n",
    "    }"
   ]
  },
  {
   "cell_type": "markdown",
   "metadata": {},
   "source": [
    "## 1. Registrate a new GMN"
   ]
  },
  {
   "cell_type": "markdown",
   "metadata": {},
   "source": [
    "### 1.1. Generate registration request xml document"
   ]
  },
  {
   "cell_type": "markdown",
   "metadata": {},
   "source": [
    "Get GLD data:"
   ]
  },
  {
   "cell_type": "code",
   "execution_count": 3,
   "metadata": {},
   "outputs": [],
   "source": [
    "monitoringTube1 = {'broId':'GMW000000026289',\n",
    "                   'tubeNumber':2}\n",
    "\n",
    "monitoringTube2 = {'broId':'GMW000000026288',\n",
    "                   'tubeNumber':3}\n",
    "\n",
    "measuringPoints = [{'measuringPointCode':'GMW07F000001',\n",
    "                'monitoringTube':monitoringTube1},\n",
    "                    {'measuringPointCode':'GMW07F000002',\n",
    "                'monitoringTube':monitoringTube2}]\n",
    "\n",
    "srcdocdata =  {'objectIdAccountableParty':'Meetnet_07',\n",
    "                'name':'Provinciaal meetnet grondwater Groningen; Delfzijl',        \n",
    "                'deliveryContext':'kaderrichtlijnWater',        \n",
    "                'monitoringPurpose':'strategischBeheerKwaliteitRegionaal',        \n",
    "                'groundwaterAspect':'kwantiteit',    \n",
    "                'startDateMonitoring':['2021','year'],     \n",
    "                'measuringPoints':measuringPoints,              \n",
    "                } "
   ]
  },
  {
   "cell_type": "markdown",
   "metadata": {},
   "source": [
    "Generate registartion request (GLD_StartRegistration) xml file:"
   ]
  },
  {
   "cell_type": "code",
   "execution_count": 5,
   "metadata": {},
   "outputs": [],
   "source": [
    "reg = brx.gmn_registration_request(srcdoc='GMN_StartRegistration', requestReference = 'Groningen_01', deliveryAccountableParty = '27376655', qualityRegime = 'IMBRO/A', srcdocdata=srcdocdata)\n",
    "reg.generate()\n",
    "reg.write_request(output_dir = 'output\\gmn', filename = 'registration_request_gmn_startregistration_test.xml')\n"
   ]
  },
  {
   "cell_type": "markdown",
   "metadata": {},
   "source": [
    "### 1.2. Validate registration request xml document"
   ]
  },
  {
   "cell_type": "markdown",
   "metadata": {},
   "source": [
    "Validate the generated sourcedocument (by means of bronhouderportaal api). In this case, the demo environment of the bronhouderportaal is used."
   ]
  },
  {
   "cell_type": "code",
   "execution_count": 6,
   "metadata": {},
   "outputs": [],
   "source": [
    "payload = reg.request"
   ]
  },
  {
   "cell_type": "markdown",
   "metadata": {},
   "source": [
    "Check if there are some errors:"
   ]
  },
  {
   "cell_type": "code",
   "execution_count": 7,
   "metadata": {},
   "outputs": [
    {
     "name": "stdout",
     "output_type": "stream",
     "text": [
      "VALIDE\n",
      "\n",
      "ERRORS:\n"
     ]
    }
   ],
   "source": [
    "#payload = reg.request\n",
    "validation_info = brx.validate_request(payload, acces_token_bro_portal, demo=True)\n",
    "\n",
    "print(validation_info['status']+'\\n')\n",
    "try:\n",
    "    \n",
    "    print('ERRORS:')\n",
    "    for error in validation_info['errors']:\n",
    "        print(error+'\\n')\n",
    "except:\n",
    "    None\n"
   ]
  },
  {
   "cell_type": "markdown",
   "metadata": {},
   "source": [
    "The xml document seems to be valid"
   ]
  }
 ],
 "metadata": {
  "kernelspec": {
   "display_name": "Python 3.9.5 64-bit",
   "language": "python",
   "name": "python3"
  },
  "language_info": {
   "codemirror_mode": {
    "name": "ipython",
    "version": 3
   },
   "file_extension": ".py",
   "mimetype": "text/x-python",
   "name": "python",
   "nbconvert_exporter": "python",
   "pygments_lexer": "ipython3",
   "version": "3.9.5"
  },
  "vscode": {
   "interpreter": {
    "hash": "81794d4967e6c3204c66dcd87b604927b115b27c00565d3d43f05ba2f3a2cb0d"
   }
  }
 },
 "nbformat": 4,
 "nbformat_minor": 4
}
