{
 "cells": [
  {
   "cell_type": "markdown",
   "metadata": {},
   "source": [
    "# GMN Example"
   ]
  },
  {
   "cell_type": "markdown",
   "metadata": {},
   "source": [
    "This notebook demonstrates how to register a groundwatermonitoringnetwork (GMN) in the BRO using bro-exchange."
   ]
  },
  {
   "cell_type": "code",
   "execution_count": 52,
   "metadata": {},
   "outputs": [],
   "source": [
    "import bro_exchange as brx\n",
    "from getpass import getpass"
   ]
  },
  {
   "cell_type": "markdown",
   "metadata": {},
   "source": [
    "Define the token used for authentification (Bronhouderportaal API) below. Note: a token generated in the demo environment should be used. Besides, the project id should be given when using api v2."
   ]
  },
  {
   "cell_type": "code",
   "execution_count": 53,
   "metadata": {},
   "outputs": [],
   "source": [
    "user = input('user:')\n",
    "password = getpass('pass:')\n",
    "project_id = input('project_id:')\n"
   ]
  },
  {
   "cell_type": "markdown",
   "metadata": {},
   "source": [
    "## 1. Register a new GMN"
   ]
  },
  {
   "cell_type": "markdown",
   "metadata": {},
   "source": [
    "### 1.1. Generate registration request"
   ]
  },
  {
   "cell_type": "markdown",
   "metadata": {},
   "source": [
    "Get GMN data:"
   ]
  },
  {
   "cell_type": "code",
   "execution_count": 54,
   "metadata": {},
   "outputs": [],
   "source": [
    "monitoringTube1 = {'broId':'GMW000000026289',\n",
    "                   'tubeNumber':2}\n",
    "\n",
    "monitoringTube2 = {'broId':'GMW000000026288',\n",
    "                   'tubeNumber':3}\n",
    "\n",
    "measuringPoints = [{'measuringPointCode':'GMW07F000001',\n",
    "                'monitoringTube':monitoringTube1},\n",
    "                    {'measuringPointCode':'GMW07F000002',\n",
    "                'monitoringTube':monitoringTube2}]\n",
    "\n",
    "srcdocdata =  {'objectIdAccountableParty':'Meetnet_07',\n",
    "                'name':'Provinciaal meetnet grondwater Groningen; Delfzijl',        \n",
    "                'deliveryContext':'kaderrichtlijnWater',        \n",
    "                'monitoringPurpose':'strategischBeheerKwaliteitRegionaal',        \n",
    "                'groundwaterAspect':'kwantiteit',    \n",
    "                'startDateMonitoring':['2021-01-01','date'],     \n",
    "                'measuringPoints':measuringPoints,              \n",
    "                } "
   ]
  },
  {
   "cell_type": "markdown",
   "metadata": {},
   "source": [
    "Generate registartion request (GMN_StartRegistration):"
   ]
  },
  {
   "cell_type": "code",
   "execution_count": 55,
   "metadata": {},
   "outputs": [],
   "source": [
    "reg = brx.gmn_registration_request(srcdoc='GMN_StartRegistration', requestReference = 'GMN_StartRegistration_test', deliveryAccountableParty = '27376655', qualityRegime = 'IMBRO', srcdocdata=srcdocdata)\n",
    "reg.generate()\n",
    "reg.write_request(output_dir = 'output\\gmn', filename = 'registration_request_gmn_startregistration_test.xml')\n"
   ]
  },
  {
   "cell_type": "markdown",
   "metadata": {},
   "source": [
    "### 1.2. Validate registration request"
   ]
  },
  {
   "cell_type": "markdown",
   "metadata": {},
   "source": [
    "Validate the generated request (by means of bronhouderportaal api). In this case, the demo environment of the bronhouderportaal is used."
   ]
  },
  {
   "cell_type": "code",
   "execution_count": 56,
   "metadata": {},
   "outputs": [],
   "source": [
    "reg.validate(user=user, password=password, api='v2', project_id = 1255, demo=True)"
   ]
  },
  {
   "cell_type": "markdown",
   "metadata": {},
   "source": [
    "Check if there are some errors:"
   ]
  },
  {
   "cell_type": "code",
   "execution_count": 57,
   "metadata": {},
   "outputs": [
    {
     "name": "stdout",
     "output_type": "stream",
     "text": [
      "VALIDE\n",
      "{'status': 'VALIDE'}\n"
     ]
    }
   ],
   "source": [
    "print(reg.validation_status)\n",
    "print(reg.validation_info)"
   ]
  },
  {
   "cell_type": "markdown",
   "metadata": {},
   "source": [
    "The xml document seems to be valid"
   ]
  },
  {
   "cell_type": "markdown",
   "metadata": {},
   "source": [
    "### 1.3. Deliver registration request"
   ]
  },
  {
   "cell_type": "markdown",
   "metadata": {},
   "source": [
    "Deliver the generared request. For delivering the request, information "
   ]
  },
  {
   "cell_type": "code",
   "execution_count": 61,
   "metadata": {},
   "outputs": [
    {
     "name": "stdout",
     "output_type": "stream",
     "text": [
      "{'identifier': '0000182614', 'status': 'AANGELEVERD', 'lastChanged': '2022-11-15T23:23:57.530097', 'brondocuments': [{'id': 418602, 'status': 'GELDIG', 'lastChanged': '2022-11-15T23:23:57.554417', 'filename': '7ea9f52ddea6.xml', 'requestReference': 'GMN_StartRegistration_test'}]}\n",
      "0000182614\n"
     ]
    }
   ],
   "source": [
    "reg.deliver(user=user, password=password, api='v2', project_id = 1255, demo=True)\n",
    "print(reg.delivery_info.json())\n",
    "print(reg.delivery_id)"
   ]
  },
  {
   "cell_type": "markdown",
   "metadata": {},
   "source": [
    "The request is delivered, and the id is stored. After delivering, the request can't be deliverd again:"
   ]
  },
  {
   "cell_type": "code",
   "execution_count": 49,
   "metadata": {},
   "outputs": [
    {
     "ename": "Exception",
     "evalue": "Request has already been delivered",
     "output_type": "error",
     "traceback": [
      "\u001b[1;31m---------------------------------------------------------------------------\u001b[0m",
      "\u001b[1;31mException\u001b[0m                                 Traceback (most recent call last)",
      "Cell \u001b[1;32mIn [49], line 1\u001b[0m\n\u001b[1;32m----> 1\u001b[0m reg\u001b[39m.\u001b[39mdeliver(user\u001b[39m=\u001b[39muser, password\u001b[39m=\u001b[39mpassword, api\u001b[39m=\u001b[39m\u001b[39m'\u001b[39m\u001b[39mv2\u001b[39m\u001b[39m'\u001b[39m, project_id \u001b[39m=\u001b[39m \u001b[39m1255\u001b[39m, demo\u001b[39m=\u001b[39m\u001b[39mTrue\u001b[39;00m)\n",
      "File \u001b[1;32mc:\\Python39\\lib\\site-packages\\bro_exchange\\broxml\\gmn\\requests.py:140\u001b[0m, in \u001b[0;36mgmn_registration_request.deliver\u001b[1;34m(self, token, user, password, api, project_id, demo)\u001b[0m\n\u001b[0;32m    137\u001b[0m \u001b[39mdef\u001b[39;00m \u001b[39mdeliver\u001b[39m(\u001b[39mself\u001b[39m, token\u001b[39m=\u001b[39m\u001b[39mNone\u001b[39;00m, user\u001b[39m=\u001b[39m\u001b[39mNone\u001b[39;00m, password\u001b[39m=\u001b[39m \u001b[39mNone\u001b[39;00m, api\u001b[39m=\u001b[39m\u001b[39m'\u001b[39m\u001b[39mv1\u001b[39m\u001b[39m'\u001b[39m, project_id \u001b[39m=\u001b[39m \u001b[39mNone\u001b[39;00m, demo\u001b[39m=\u001b[39m\u001b[39mFalse\u001b[39;00m):\n\u001b[0;32m    139\u001b[0m     \u001b[39mif\u001b[39;00m \u001b[39mself\u001b[39m\u001b[39m.\u001b[39mdelivery_id\u001b[39m!=\u001b[39m\u001b[39mNone\u001b[39;00m:\n\u001b[1;32m--> 140\u001b[0m         \u001b[39mraise\u001b[39;00m \u001b[39mException\u001b[39;00m(\u001b[39m\"\u001b[39m\u001b[39mRequest has already been delivered\u001b[39m\u001b[39m\"\u001b[39m)\n\u001b[0;32m    141\u001b[0m     \u001b[39mif\u001b[39;00m \u001b[39mself\u001b[39m\u001b[39m.\u001b[39mvalidation_status \u001b[39m!=\u001b[39m \u001b[39m'\u001b[39m\u001b[39mVALIDE\u001b[39m\u001b[39m'\u001b[39m:\n\u001b[0;32m    142\u001b[0m         \u001b[39mraise\u001b[39;00m \u001b[39mException\u001b[39;00m(\u001b[39m\"\u001b[39m\u001b[39mRequest isn\u001b[39m\u001b[39m'\u001b[39m\u001b[39mt valid\u001b[39m\u001b[39m\"\u001b[39m)  \n",
      "\u001b[1;31mException\u001b[0m: Request has already been delivered"
     ]
    }
   ],
   "source": [
    "reg.deliver(user=user, password=password, api='v2', project_id = 1255, demo=True)"
   ]
  },
  {
   "cell_type": "markdown",
   "metadata": {},
   "source": [
    "After the request has been deliverd, the delivery id can be stored to track the status."
   ]
  },
  {
   "cell_type": "code",
   "execution_count": 62,
   "metadata": {},
   "outputs": [],
   "source": [
    "delivery_id = reg.delivery_id"
   ]
  },
  {
   "cell_type": "markdown",
   "metadata": {},
   "source": [
    "### 1.4. Track status of pending delivery"
   ]
  },
  {
   "cell_type": "markdown",
   "metadata": {},
   "source": [
    "To track the status of a pending delivery, the 'check_status' function of bro-exchange can be used. It only requires the delivery id, api version, environment and the authentication data. If api v2 is used, the project id should also be supplied:"
   ]
  },
  {
   "cell_type": "code",
   "execution_count": 64,
   "metadata": {},
   "outputs": [
    {
     "name": "stdout",
     "output_type": "stream",
     "text": [
      "{'identifier': '0000182614', 'status': 'DOORGELEVERD', 'lastChanged': '2022-11-15T23:24:03.009142', 'brondocuments': [{'id': 418602, 'status': 'OPGENOMEN_LVBRO', 'lastChanged': '2022-11-15T23:24:02.74789', 'broId': 'GMN000000001076', 'transactionId': 'GMN-000000001403', 'filename': '7ea9f52ddea6.xml', 'requestReference': 'GMN_StartRegistration_test'}]}\n"
     ]
    }
   ],
   "source": [
    "status = brx.check_delivery_status(delivery_id, user=user, password=password, api='v2', project_id = project_id, demo=True)\n",
    "print(status.json())"
   ]
  },
  {
   "cell_type": "code",
   "execution_count": null,
   "metadata": {},
   "outputs": [],
   "source": []
  }
 ],
 "metadata": {
  "kernelspec": {
   "display_name": "Python 3.9.5 64-bit",
   "language": "python",
   "name": "python3"
  },
  "language_info": {
   "codemirror_mode": {
    "name": "ipython",
    "version": 3
   },
   "file_extension": ".py",
   "mimetype": "text/x-python",
   "name": "python",
   "nbconvert_exporter": "python",
   "pygments_lexer": "ipython3",
   "version": "3.9.5"
  },
  "vscode": {
   "interpreter": {
    "hash": "81794d4967e6c3204c66dcd87b604927b115b27c00565d3d43f05ba2f3a2cb0d"
   }
  }
 },
 "nbformat": 4,
 "nbformat_minor": 4
}
